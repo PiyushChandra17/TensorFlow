{
  "nbformat": 4,
  "nbformat_minor": 0,
  "metadata": {
    "colab": {
      "name": "Cats-v-Dogs_Augmentation.ipynb",
      "version": "0.3.2",
      "provenance": [],
      "collapsed_sections": [],
      "include_colab_link": true
    },
    "kernelspec": {
      "name": "python3",
      "display_name": "Python 3"
    },
    "accelerator": "GPU"
  },
  "cells": [
    {
      "cell_type": "markdown",
      "metadata": {
        "id": "view-in-github",
        "colab_type": "text"
      },
      "source": [
        "<a href=\"https://colab.research.google.com/github/piyush1795/Py-piyush/blob/master/Cats_v_Dogs_Augmentation.ipynb\" target=\"_parent\"><img src=\"https://colab.research.google.com/assets/colab-badge.svg\" alt=\"Open In Colab\"/></a>"
      ]
    },
    {
      "cell_type": "code",
      "metadata": {
        "id": "gwP1UhMF92xv",
        "colab_type": "code",
        "outputId": "0ad3d8f2-463c-46a8-e9a3-ca509fb1033f",
        "colab": {
          "base_uri": "https://localhost:8080/",
          "height": 204
        }
      },
      "source": [
        "!wget --no-check-certificate \\\n",
        "  https://storage.googleapis.com/mledu-datasets/cats_and_dogs_filtered.zip \\\n",
        "  -O /tmp/cats_and_dogs_filtered.zip"
      ],
      "execution_count": 31,
      "outputs": [
        {
          "output_type": "stream",
          "text": [
            "--2019-06-12 11:20:15--  https://storage.googleapis.com/mledu-datasets/cats_and_dogs_filtered.zip\n",
            "Resolving storage.googleapis.com (storage.googleapis.com)... 108.177.97.128, 2404:6800:4008:c01::80\n",
            "Connecting to storage.googleapis.com (storage.googleapis.com)|108.177.97.128|:443... connected.\n",
            "HTTP request sent, awaiting response... 200 OK\n",
            "Length: 68606236 (65M) [application/zip]\n",
            "Saving to: ‘/tmp/cats_and_dogs_filtered.zip’\n",
            "\n",
            "/tmp/cats_and_dogs_ 100%[===================>]  65.43M  54.8MB/s    in 1.2s    \n",
            "\n",
            "2019-06-12 11:20:16 (54.8 MB/s) - ‘/tmp/cats_and_dogs_filtered.zip’ saved [68606236/68606236]\n",
            "\n"
          ],
          "name": "stdout"
        }
      ]
    },
    {
      "cell_type": "code",
      "metadata": {
        "id": "peb3cJSB-HIa",
        "colab_type": "code",
        "colab": {}
      },
      "source": [
        "import os\n",
        "import zipfile\n",
        "\n",
        "local_zip = '/tmp/cats_and_dogs_filtered.zip'\n",
        "\n",
        "zip_ref = zipfile.ZipFile(local_zip, 'r')\n",
        "\n",
        "zip_ref.extractall('/tmp')\n",
        "zip_ref.close()"
      ],
      "execution_count": 0,
      "outputs": []
    },
    {
      "cell_type": "code",
      "metadata": {
        "id": "d8lw0a-k-IBe",
        "colab_type": "code",
        "colab": {}
      },
      "source": [
        "base_dir = '/tmp/cats_and_dogs_filtered'\n",
        "train_dir = os.path.join(base_dir,'train')\n",
        "validation_dir = os.path.join(base_dir,'validation')\n",
        "\n",
        "train_cats_dir = os.path.join(train_dir,'cats')\n",
        "train_dogs_dir = os.path.join(train_dir,'dogs')\n",
        "\n",
        "validation_cats_dir = os.path.join(validation_dir,'cats')\n",
        "validation_dogs_dir = os.path.join(validation_dir,'dogs')"
      ],
      "execution_count": 0,
      "outputs": []
    },
    {
      "cell_type": "code",
      "metadata": {
        "id": "Piyl-EYK-gWT",
        "colab_type": "code",
        "colab": {}
      },
      "source": [
        "import tensorflow as tf"
      ],
      "execution_count": 0,
      "outputs": []
    },
    {
      "cell_type": "code",
      "metadata": {
        "id": "zjuTrG2u-hVT",
        "colab_type": "code",
        "colab": {}
      },
      "source": [
        "model = tf.keras.models.Sequential([\n",
        "    tf.keras.layers.Conv2D(32, (3,3), activation='relu', input_shape=(150, 150, 3)),\n",
        "    tf.keras.layers.MaxPooling2D(2, 2),\n",
        "    tf.keras.layers.Conv2D(64, (3,3), activation='relu'),\n",
        "    tf.keras.layers.MaxPooling2D(2,2),\n",
        "    tf.keras.layers.Conv2D(128, (3,3), activation='relu'),\n",
        "    tf.keras.layers.MaxPooling2D(2,2),\n",
        "    tf.keras.layers.Conv2D(128, (3,3), activation='relu'),\n",
        "    tf.keras.layers.MaxPooling2D(2,2),\n",
        "    tf.keras.layers.Flatten(),\n",
        "    tf.keras.layers.Dense(512, activation='relu'),\n",
        "    tf.keras.layers.Dense(1, activation='sigmoid')\n",
        "])"
      ],
      "execution_count": 0,
      "outputs": []
    },
    {
      "cell_type": "code",
      "metadata": {
        "id": "yFq09XSI-kPd",
        "colab_type": "code",
        "colab": {}
      },
      "source": [
        "from tensorflow.keras.optimizers import RMSprop\n",
        "model.compile(optimizer=RMSprop(lr=0.001),\n",
        "              loss='binary_crossentropy',\n",
        "              metrics = ['acc'])"
      ],
      "execution_count": 0,
      "outputs": []
    },
    {
      "cell_type": "code",
      "metadata": {
        "id": "Cq3JNmx7-qf3",
        "colab_type": "code",
        "outputId": "8fbc0921-6425-497e-de55-8308bccfef72",
        "colab": {
          "base_uri": "https://localhost:8080/",
          "height": 51
        }
      },
      "source": [
        "from tensorflow.keras.preprocessing.image import ImageDataGenerator\n",
        "\n",
        "train_datagen = ImageDataGenerator(rescale = 1.0/255.)\n",
        "test_datagen = ImageDataGenerator(rescale = 1.0/255.)\n",
        "\n",
        "train_generator = train_datagen.flow_from_directory(train_dir,\n",
        "                                                   batch_size=20,\n",
        "                                                   class_mode='binary',\n",
        "                                                   target_size=(150,150))\n",
        "\n",
        "validation_generator = test_datagen.flow_from_directory(validation_dir,\n",
        "                                                       batch_size=20,\n",
        "                                                       class_mode='binary',\n",
        "                                                       target_size=(150,150))"
      ],
      "execution_count": 37,
      "outputs": [
        {
          "output_type": "stream",
          "text": [
            "Found 2000 images belonging to 2 classes.\n",
            "Found 1000 images belonging to 2 classes.\n"
          ],
          "name": "stdout"
        }
      ]
    },
    {
      "cell_type": "code",
      "metadata": {
        "id": "NbFh6w8i-t9a",
        "colab_type": "code",
        "outputId": "db8656f7-1931-498f-ae9a-818acd61276a",
        "colab": {
          "base_uri": "https://localhost:8080/",
          "height": 2567
        }
      },
      "source": [
        "history = model.fit_generator(train_generator,\n",
        "                             validation_data=validation_generator,\n",
        "                             steps_per_epoch=50,\n",
        "                             epochs=50,\n",
        "                             validation_steps=50,\n",
        "                             verbose=2)"
      ],
      "execution_count": 38,
      "outputs": [
        {
          "output_type": "stream",
          "text": [
            "Epoch 1/50\n",
            "50/50 [==============================] - 4s 76ms/step - loss: 0.6928 - acc: 0.5000\n",
            " - 10s - loss: 0.7155 - acc: 0.4910 - val_loss: 0.6928 - val_acc: 0.5000\n",
            "Epoch 2/50\n",
            "50/50 [==============================] - 4s 75ms/step - loss: 0.6519 - acc: 0.6140\n",
            " - 10s - loss: 0.6818 - acc: 0.5750 - val_loss: 0.6519 - val_acc: 0.6140\n",
            "Epoch 3/50\n",
            "50/50 [==============================] - 4s 74ms/step - loss: 0.5682 - acc: 0.7070\n",
            " - 10s - loss: 0.6211 - acc: 0.6695 - val_loss: 0.5682 - val_acc: 0.7070\n",
            "Epoch 4/50\n",
            "50/50 [==============================] - 4s 74ms/step - loss: 0.5845 - acc: 0.6950\n",
            " - 10s - loss: 0.5494 - acc: 0.7290 - val_loss: 0.5845 - val_acc: 0.6950\n",
            "Epoch 5/50\n",
            "50/50 [==============================] - 4s 74ms/step - loss: 0.5548 - acc: 0.7220\n",
            " - 10s - loss: 0.5168 - acc: 0.7535 - val_loss: 0.5548 - val_acc: 0.7220\n",
            "Epoch 6/50\n",
            "50/50 [==============================] - 4s 75ms/step - loss: 0.6994 - acc: 0.6700\n",
            " - 10s - loss: 0.4610 - acc: 0.7745 - val_loss: 0.6994 - val_acc: 0.6700\n",
            "Epoch 7/50\n",
            "50/50 [==============================] - 4s 73ms/step - loss: 0.5543 - acc: 0.7410\n",
            " - 10s - loss: 0.4085 - acc: 0.8150 - val_loss: 0.5543 - val_acc: 0.7410\n",
            "Epoch 8/50\n",
            "50/50 [==============================] - 4s 73ms/step - loss: 0.6556 - acc: 0.7230\n",
            " - 10s - loss: 0.3354 - acc: 0.8570 - val_loss: 0.6556 - val_acc: 0.7230\n",
            "Epoch 9/50\n",
            "50/50 [==============================] - 4s 73ms/step - loss: 0.8041 - acc: 0.7180\n",
            " - 10s - loss: 0.2669 - acc: 0.8820 - val_loss: 0.8041 - val_acc: 0.7180\n",
            "Epoch 10/50\n",
            "50/50 [==============================] - 4s 74ms/step - loss: 0.8521 - acc: 0.7200\n",
            " - 10s - loss: 0.2106 - acc: 0.9160 - val_loss: 0.8521 - val_acc: 0.7200\n",
            "Epoch 11/50\n",
            "50/50 [==============================] - 4s 74ms/step - loss: 0.9872 - acc: 0.7450\n",
            " - 10s - loss: 0.1808 - acc: 0.9385 - val_loss: 0.9872 - val_acc: 0.7450\n",
            "Epoch 12/50\n",
            "50/50 [==============================] - 4s 74ms/step - loss: 1.1821 - acc: 0.7190\n",
            " - 10s - loss: 0.1395 - acc: 0.9465 - val_loss: 1.1821 - val_acc: 0.7190\n",
            "Epoch 13/50\n",
            "50/50 [==============================] - 4s 73ms/step - loss: 1.0048 - acc: 0.7320\n",
            " - 10s - loss: 0.1202 - acc: 0.9610 - val_loss: 1.0048 - val_acc: 0.7320\n",
            "Epoch 14/50\n",
            "50/50 [==============================] - 4s 74ms/step - loss: 1.4605 - acc: 0.7270\n",
            " - 10s - loss: 0.0834 - acc: 0.9720 - val_loss: 1.4605 - val_acc: 0.7270\n",
            "Epoch 15/50\n",
            "50/50 [==============================] - 4s 76ms/step - loss: 1.2830 - acc: 0.7100\n",
            " - 10s - loss: 0.0809 - acc: 0.9750 - val_loss: 1.2830 - val_acc: 0.7100\n",
            "Epoch 16/50\n",
            "50/50 [==============================] - 4s 75ms/step - loss: 1.2687 - acc: 0.7280\n",
            " - 10s - loss: 0.0770 - acc: 0.9770 - val_loss: 1.2687 - val_acc: 0.7280\n",
            "Epoch 17/50\n",
            "50/50 [==============================] - 4s 74ms/step - loss: 1.8264 - acc: 0.7250\n",
            " - 10s - loss: 0.0520 - acc: 0.9815 - val_loss: 1.8264 - val_acc: 0.7250\n",
            "Epoch 18/50\n",
            "50/50 [==============================] - 4s 74ms/step - loss: 1.2929 - acc: 0.7050\n",
            " - 10s - loss: 0.0567 - acc: 0.9780 - val_loss: 1.2929 - val_acc: 0.7050\n",
            "Epoch 19/50\n",
            "50/50 [==============================] - 4s 74ms/step - loss: 1.5406 - acc: 0.7410\n",
            " - 10s - loss: 0.0620 - acc: 0.9790 - val_loss: 1.5406 - val_acc: 0.7410\n",
            "Epoch 20/50\n",
            "50/50 [==============================] - 4s 74ms/step - loss: 1.8117 - acc: 0.7220\n",
            " - 10s - loss: 0.0745 - acc: 0.9820 - val_loss: 1.8117 - val_acc: 0.7220\n",
            "Epoch 21/50\n",
            "50/50 [==============================] - 4s 75ms/step - loss: 2.4280 - acc: 0.6760\n",
            " - 10s - loss: 0.0561 - acc: 0.9870 - val_loss: 2.4280 - val_acc: 0.6760\n",
            "Epoch 22/50\n",
            "50/50 [==============================] - 4s 74ms/step - loss: 2.1309 - acc: 0.7200\n",
            " - 10s - loss: 0.0425 - acc: 0.9880 - val_loss: 2.1309 - val_acc: 0.7200\n",
            "Epoch 23/50\n",
            "50/50 [==============================] - 4s 73ms/step - loss: 2.1234 - acc: 0.7200\n",
            " - 10s - loss: 0.0336 - acc: 0.9855 - val_loss: 2.1234 - val_acc: 0.7200\n",
            "Epoch 24/50\n",
            "50/50 [==============================] - 4s 73ms/step - loss: 2.0680 - acc: 0.7320\n",
            " - 10s - loss: 0.0625 - acc: 0.9795 - val_loss: 2.0680 - val_acc: 0.7320\n",
            "Epoch 25/50\n",
            "50/50 [==============================] - 4s 74ms/step - loss: 2.1467 - acc: 0.7460\n",
            " - 10s - loss: 0.0579 - acc: 0.9885 - val_loss: 2.1467 - val_acc: 0.7460\n",
            "Epoch 26/50\n",
            "50/50 [==============================] - 4s 75ms/step - loss: 2.2115 - acc: 0.7300\n",
            " - 10s - loss: 0.0305 - acc: 0.9915 - val_loss: 2.2115 - val_acc: 0.7300\n",
            "Epoch 27/50\n",
            "50/50 [==============================] - 4s 73ms/step - loss: 2.4662 - acc: 0.7390\n",
            " - 10s - loss: 0.0448 - acc: 0.9885 - val_loss: 2.4662 - val_acc: 0.7390\n",
            "Epoch 28/50\n",
            "50/50 [==============================] - 4s 74ms/step - loss: 2.2324 - acc: 0.7410\n",
            " - 10s - loss: 0.0391 - acc: 0.9880 - val_loss: 2.2324 - val_acc: 0.7410\n",
            "Epoch 29/50\n",
            "50/50 [==============================] - 4s 73ms/step - loss: 2.4712 - acc: 0.7250\n",
            " - 10s - loss: 0.0728 - acc: 0.9875 - val_loss: 2.4712 - val_acc: 0.7250\n",
            "Epoch 30/50\n",
            "50/50 [==============================] - 4s 73ms/step - loss: 2.4139 - acc: 0.7170\n",
            " - 10s - loss: 0.0437 - acc: 0.9895 - val_loss: 2.4139 - val_acc: 0.7170\n",
            "Epoch 31/50\n",
            "50/50 [==============================] - 4s 73ms/step - loss: 2.3614 - acc: 0.7300\n",
            " - 10s - loss: 0.0404 - acc: 0.9910 - val_loss: 2.3614 - val_acc: 0.7300\n",
            "Epoch 32/50\n",
            "50/50 [==============================] - 4s 75ms/step - loss: 2.3255 - acc: 0.7140\n",
            " - 10s - loss: 0.0489 - acc: 0.9900 - val_loss: 2.3255 - val_acc: 0.7140\n",
            "Epoch 33/50\n",
            "50/50 [==============================] - 4s 75ms/step - loss: 2.4490 - acc: 0.7320\n",
            " - 10s - loss: 0.0293 - acc: 0.9915 - val_loss: 2.4490 - val_acc: 0.7320\n",
            "Epoch 34/50\n",
            "50/50 [==============================] - 4s 75ms/step - loss: 3.5745 - acc: 0.6890\n",
            " - 10s - loss: 0.0542 - acc: 0.9900 - val_loss: 3.5745 - val_acc: 0.6890\n",
            "Epoch 35/50\n",
            "50/50 [==============================] - 4s 76ms/step - loss: 2.9694 - acc: 0.7290\n",
            " - 10s - loss: 0.0670 - acc: 0.9850 - val_loss: 2.9694 - val_acc: 0.7290\n",
            "Epoch 36/50\n",
            "50/50 [==============================] - 4s 75ms/step - loss: 3.0298 - acc: 0.7290\n",
            " - 10s - loss: 0.0068 - acc: 0.9965 - val_loss: 3.0298 - val_acc: 0.7290\n",
            "Epoch 37/50\n",
            "50/50 [==============================] - 4s 74ms/step - loss: 2.9919 - acc: 0.7180\n",
            " - 10s - loss: 0.0496 - acc: 0.9910 - val_loss: 2.9919 - val_acc: 0.7180\n",
            "Epoch 38/50\n",
            "50/50 [==============================] - 4s 74ms/step - loss: 3.2715 - acc: 0.7180\n",
            " - 10s - loss: 0.0581 - acc: 0.9905 - val_loss: 3.2715 - val_acc: 0.7180\n",
            "Epoch 39/50\n",
            "50/50 [==============================] - 4s 75ms/step - loss: 2.8884 - acc: 0.7250\n",
            " - 10s - loss: 0.0736 - acc: 0.9880 - val_loss: 2.8884 - val_acc: 0.7250\n",
            "Epoch 40/50\n",
            "50/50 [==============================] - 4s 74ms/step - loss: 2.8143 - acc: 0.7140\n",
            " - 10s - loss: 0.0508 - acc: 0.9875 - val_loss: 2.8143 - val_acc: 0.7140\n",
            "Epoch 41/50\n",
            "50/50 [==============================] - 4s 74ms/step - loss: 3.0937 - acc: 0.7280\n",
            " - 10s - loss: 0.0395 - acc: 0.9890 - val_loss: 3.0937 - val_acc: 0.7280\n",
            "Epoch 42/50\n",
            "50/50 [==============================] - 4s 75ms/step - loss: 2.4206 - acc: 0.7240\n",
            " - 10s - loss: 0.0588 - acc: 0.9900 - val_loss: 2.4206 - val_acc: 0.7240\n",
            "Epoch 43/50\n",
            "50/50 [==============================] - 4s 75ms/step - loss: 2.4214 - acc: 0.7260\n",
            " - 10s - loss: 0.0704 - acc: 0.9885 - val_loss: 2.4214 - val_acc: 0.7260\n",
            "Epoch 44/50\n",
            "50/50 [==============================] - 4s 75ms/step - loss: 2.9574 - acc: 0.7380\n",
            " - 10s - loss: 0.0623 - acc: 0.9880 - val_loss: 2.9574 - val_acc: 0.7380\n",
            "Epoch 45/50\n",
            "50/50 [==============================] - 4s 75ms/step - loss: 3.0988 - acc: 0.7050\n",
            " - 10s - loss: 0.0523 - acc: 0.9915 - val_loss: 3.0988 - val_acc: 0.7050\n",
            "Epoch 46/50\n",
            "50/50 [==============================] - 4s 76ms/step - loss: 3.1152 - acc: 0.7190\n",
            " - 10s - loss: 0.0413 - acc: 0.9870 - val_loss: 3.1152 - val_acc: 0.7190\n",
            "Epoch 47/50\n",
            "50/50 [==============================] - 4s 74ms/step - loss: 3.0927 - acc: 0.7180\n",
            " - 10s - loss: 0.0935 - acc: 0.9870 - val_loss: 3.0927 - val_acc: 0.7180\n",
            "Epoch 48/50\n",
            "50/50 [==============================] - 4s 74ms/step - loss: 2.8514 - acc: 0.7230\n",
            " - 10s - loss: 0.0214 - acc: 0.9955 - val_loss: 2.8514 - val_acc: 0.7230\n",
            "Epoch 49/50\n",
            "50/50 [==============================] - 4s 75ms/step - loss: 2.4695 - acc: 0.7170\n",
            " - 10s - loss: 0.0645 - acc: 0.9880 - val_loss: 2.4695 - val_acc: 0.7170\n",
            "Epoch 50/50\n",
            "50/50 [==============================] - 4s 76ms/step - loss: 3.1755 - acc: 0.7180\n",
            " - 10s - loss: 0.0601 - acc: 0.9905 - val_loss: 3.1755 - val_acc: 0.7180\n"
          ],
          "name": "stdout"
        }
      ]
    },
    {
      "cell_type": "code",
      "metadata": {
        "id": "8Ck3ic5_BLUx",
        "colab_type": "code",
        "outputId": "1c8f8fd8-0e04-40a3-83be-c833d5d96cf1",
        "colab": {
          "base_uri": "https://localhost:8080/",
          "height": 545
        }
      },
      "source": [
        "import matplotlib.pyplot as plt\n",
        "acc = history.history['acc']\n",
        "val_acc = history.history['val_acc']\n",
        "loss = history.history['loss']\n",
        "val_loss = history.history['val_loss']\n",
        "\n",
        "epochs = range(len(acc))\n",
        "\n",
        "plt.plot(epochs,acc,'bo',label='Training accuracy')\n",
        "plt.plot(epochs,val_acc,'b',label='Validation accuracy')\n",
        "plt.title('Training and Validation accuracy')\n",
        "\n",
        "plt.figure()\n",
        "\n",
        "plt.plot(epochs,loss,'bo',label='Training Loss')\n",
        "plt.plot(epochs,val_loss,'b',label='Validation Loss')\n",
        "plt.title('Training and Validation Loss')\n",
        "plt.legend()\n",
        "\n",
        "plt.show()"
      ],
      "execution_count": 39,
      "outputs": [
        {
          "output_type": "display_data",
          "data": {
            "image/png": "[encoded data removed]",
            "text/plain": [
              "<Figure size 432x288 with 1 Axes>"
            ]
          },
          "metadata": {
            "tags": []
          }
        },
        {
          "output_type": "display_data",
          "data": {
            "image/png": "[encoded data removed]",
            "text/plain": [
              "<Figure size 432x288 with 1 Axes>"
            ]
          },
          "metadata": {
            "tags": []
          }
        }
      ]
    },
    {
      "cell_type": "code",
      "metadata": {
        "id": "yCX4NcIfRB9i",
        "colab_type": "code",
        "colab": {
          "base_uri": "https://localhost:8080/",
          "height": 204
        },
        "outputId": "847d9f1a-c8c7-4397-c26e-ea5d466630e7"
      },
      "source": [
        "!wget --no-check-certificate \\\n",
        "  https://storage.googleapis.com/mledu-datasets/cats_and_dogs_filtered.zip \\\n",
        "  -O /tmp/cats_and_dogs_filtered.zip"
      ],
      "execution_count": 21,
      "outputs": [
        {
          "output_type": "stream",
          "text": [
            "--2019-06-12 10:53:13--  https://storage.googleapis.com/mledu-datasets/cats_and_dogs_filtered.zip\n",
            "Resolving storage.googleapis.com (storage.googleapis.com)... 108.177.125.128, 2404:6800:4008:c01::80\n",
            "Connecting to storage.googleapis.com (storage.googleapis.com)|108.177.125.128|:443... connected.\n",
            "HTTP request sent, awaiting response... 200 OK\n",
            "Length: 68606236 (65M) [application/zip]\n",
            "Saving to: ‘/tmp/cats_and_dogs_filtered.zip’\n",
            "\n",
            "/tmp/cats_and_dogs_ 100%[===================>]  65.43M  67.2MB/s    in 1.0s    \n",
            "\n",
            "2019-06-12 10:53:14 (67.2 MB/s) - ‘/tmp/cats_and_dogs_filtered.zip’ saved [68606236/68606236]\n",
            "\n"
          ],
          "name": "stdout"
        }
      ]
    },
    {
      "cell_type": "code",
      "metadata": {
        "id": "f2d7Zp1zSGsU",
        "colab_type": "code",
        "colab": {}
      },
      "source": [
        "import os\n",
        "import zipfile\n",
        "\n",
        "local_zip = '/tmp/cats_and_dogs_filtered.zip'\n",
        "\n",
        "zip_ref = zipfile.ZipFile(local_zip, 'r')\n",
        "\n",
        "zip_ref.extractall('/tmp')\n",
        "zip_ref.close()"
      ],
      "execution_count": 0,
      "outputs": []
    },
    {
      "cell_type": "code",
      "metadata": {
        "id": "Eij_sL-tSJ9n",
        "colab_type": "code",
        "colab": {}
      },
      "source": [
        "base_dir = '/tmp/cats_and_dogs_filtered'\n",
        "train_dir = os.path.join(base_dir,'train')\n",
        "validation_dir = os.path.join(base_dir,'validation')\n",
        "\n",
        "train_cats_dir = os.path.join(train_dir,'cats')\n",
        "train_dogs_dir = os.path.join(train_dir,'dogs')\n",
        "\n",
        "validation_cats_dir = os.path.join(validation_dir,'cats')\n",
        "validation_dogs_dir = os.path.join(validation_dir,'dogs')"
      ],
      "execution_count": 0,
      "outputs": []
    },
    {
      "cell_type": "code",
      "metadata": {
        "id": "5yuHt9s5SK07",
        "colab_type": "code",
        "colab": {}
      },
      "source": [
        "import tensorflow as tf"
      ],
      "execution_count": 0,
      "outputs": []
    },
    {
      "cell_type": "code",
      "metadata": {
        "id": "3qGWLooTSYaH",
        "colab_type": "code",
        "colab": {}
      },
      "source": [
        "model = tf.keras.models.Sequential([\n",
        "    tf.keras.layers.Conv2D(32, (3,3), activation='relu', input_shape=(150, 150, 3)),\n",
        "    tf.keras.layers.MaxPooling2D(2, 2),\n",
        "    tf.keras.layers.Conv2D(64, (3,3), activation='relu'),\n",
        "    tf.keras.layers.MaxPooling2D(2,2),\n",
        "    tf.keras.layers.Conv2D(128, (3,3), activation='relu'),\n",
        "    tf.keras.layers.MaxPooling2D(2,2),\n",
        "    tf.keras.layers.Conv2D(128, (3,3), activation='relu'),\n",
        "    tf.keras.layers.MaxPooling2D(2,2),\n",
        "    tf.keras.layers.Flatten(),\n",
        "    tf.keras.layers.Dense(512, activation='relu'),\n",
        "    tf.keras.layers.Dense(1, activation='sigmoid')\n",
        "])"
      ],
      "execution_count": 0,
      "outputs": []
    },
    {
      "cell_type": "code",
      "metadata": {
        "id": "2JP0WjDpScCR",
        "colab_type": "code",
        "colab": {}
      },
      "source": [
        "from tensorflow.keras.optimizers import RMSprop\n",
        "model.compile(optimizer=RMSprop(lr=0.001),\n",
        "              loss='binary_crossentropy',\n",
        "              metrics = ['acc'])"
      ],
      "execution_count": 0,
      "outputs": []
    },
    {
      "cell_type": "code",
      "metadata": {
        "id": "hthS4zwWShuY",
        "colab_type": "code",
        "colab": {
          "base_uri": "https://localhost:8080/",
          "height": 51
        },
        "outputId": "a7cfd5d9-e282-46f1-96c7-ae054a8f3bde"
      },
      "source": [
        "from tensorflow.keras.preprocessing.image import ImageDataGenerator\n",
        "\n",
        "train_datagen = ImageDataGenerator(\n",
        "      rescale=1./255,\n",
        "      rotation_range=40,\n",
        "      width_shift_range=0.2,\n",
        "      height_shift_range=0.2,\n",
        "      shear_range=0.2,\n",
        "      zoom_range=0.2,\n",
        "      horizontal_flip=True,\n",
        "      fill_mode='nearest')\n",
        "\n",
        "test_datagen = ImageDataGenerator(rescale=1./255)\n",
        "\n",
        "train_generator = train_datagen.flow_from_directory(train_dir,\n",
        "                                                   batch_size=20,\n",
        "                                                   class_mode='binary',\n",
        "                                                   target_size=(150,150))\n",
        "\n",
        "validation_generator = test_datagen.flow_from_directory(validation_dir,\n",
        "                                                       batch_size=20,\n",
        "                                                       class_mode='binary',\n",
        "                                                       target_size=(150,150))"
      ],
      "execution_count": 27,
      "outputs": [
        {
          "output_type": "stream",
          "text": [
            "Found 2000 images belonging to 2 classes.\n",
            "Found 1000 images belonging to 2 classes.\n"
          ],
          "name": "stdout"
        }
      ]
    },
    {
      "cell_type": "code",
      "metadata": {
        "id": "LBMFvpZ9So1n",
        "colab_type": "code",
        "colab": {
          "base_uri": "https://localhost:8080/",
          "height": 2567
        },
        "outputId": "4f1b7a92-9c05-4ecf-8154-f5ebece8468d"
      },
      "source": [
        "history = model.fit_generator(train_generator,\n",
        "                             validation_data=validation_generator,\n",
        "                             steps_per_epoch=50,\n",
        "                             epochs=50,\n",
        "                             validation_steps=50,\n",
        "                             verbose=2)"
      ],
      "execution_count": 28,
      "outputs": [
        {
          "output_type": "stream",
          "text": [
            "Epoch 1/50\n",
            "50/50 [==============================] - 4s 89ms/step - loss: 0.6864 - acc: 0.6100\n",
            " - 21s - loss: 0.7527 - acc: 0.5250 - val_loss: 0.6864 - val_acc: 0.6100\n",
            "Epoch 2/50\n",
            "50/50 [==============================] - 4s 87ms/step - loss: 0.6689 - acc: 0.6090\n",
            " - 19s - loss: 0.7030 - acc: 0.5485 - val_loss: 0.6689 - val_acc: 0.6090\n",
            "Epoch 3/50\n",
            "50/50 [==============================] - 4s 89ms/step - loss: 0.6521 - acc: 0.6250\n",
            " - 19s - loss: 0.6917 - acc: 0.5825 - val_loss: 0.6521 - val_acc: 0.6250\n",
            "Epoch 4/50\n",
            "50/50 [==============================] - 4s 87ms/step - loss: 0.6144 - acc: 0.6830\n",
            " - 19s - loss: 0.6642 - acc: 0.6330 - val_loss: 0.6144 - val_acc: 0.6830\n",
            "Epoch 5/50\n",
            "50/50 [==============================] - 4s 87ms/step - loss: 0.6915 - acc: 0.6260\n",
            " - 19s - loss: 0.6463 - acc: 0.6450 - val_loss: 0.6915 - val_acc: 0.6260\n",
            "Epoch 6/50\n",
            "50/50 [==============================] - 4s 87ms/step - loss: 0.6308 - acc: 0.6180\n",
            " - 19s - loss: 0.6504 - acc: 0.6365 - val_loss: 0.6308 - val_acc: 0.6180\n",
            "Epoch 7/50\n",
            "50/50 [==============================] - 4s 87ms/step - loss: 0.5712 - acc: 0.7070\n",
            " - 19s - loss: 0.6311 - acc: 0.6725 - val_loss: 0.5712 - val_acc: 0.7070\n",
            "Epoch 8/50\n",
            "50/50 [==============================] - 4s 87ms/step - loss: 0.6061 - acc: 0.6920\n",
            " - 19s - loss: 0.6306 - acc: 0.6585 - val_loss: 0.6061 - val_acc: 0.6920\n",
            "Epoch 9/50\n",
            "50/50 [==============================] - 4s 86ms/step - loss: 0.5556 - acc: 0.7050\n",
            " - 19s - loss: 0.6214 - acc: 0.6580 - val_loss: 0.5556 - val_acc: 0.7050\n",
            "Epoch 10/50\n",
            "50/50 [==============================] - 4s 88ms/step - loss: 0.5857 - acc: 0.6920\n",
            " - 19s - loss: 0.6268 - acc: 0.6515 - val_loss: 0.5857 - val_acc: 0.6920\n",
            "Epoch 11/50\n",
            "50/50 [==============================] - 4s 88ms/step - loss: 0.5577 - acc: 0.7100\n",
            " - 19s - loss: 0.6211 - acc: 0.6805 - val_loss: 0.5577 - val_acc: 0.7100\n",
            "Epoch 12/50\n",
            "50/50 [==============================] - 4s 87ms/step - loss: 0.5529 - acc: 0.7140\n",
            " - 19s - loss: 0.5894 - acc: 0.6865 - val_loss: 0.5529 - val_acc: 0.7140\n",
            "Epoch 13/50\n",
            "50/50 [==============================] - 4s 87ms/step - loss: 0.6703 - acc: 0.6750\n",
            " - 19s - loss: 0.5961 - acc: 0.6755 - val_loss: 0.6703 - val_acc: 0.6750\n",
            "Epoch 14/50\n",
            "50/50 [==============================] - 4s 87ms/step - loss: 0.5274 - acc: 0.7360\n",
            " - 19s - loss: 0.5933 - acc: 0.6980 - val_loss: 0.5274 - val_acc: 0.7360\n",
            "Epoch 15/50\n",
            "50/50 [==============================] - 4s 88ms/step - loss: 0.5905 - acc: 0.6980\n",
            " - 19s - loss: 0.5759 - acc: 0.7085 - val_loss: 0.5905 - val_acc: 0.6980\n",
            "Epoch 16/50\n",
            "50/50 [==============================] - 4s 86ms/step - loss: 0.5500 - acc: 0.7420\n",
            " - 19s - loss: 0.5977 - acc: 0.6810 - val_loss: 0.5500 - val_acc: 0.7420\n",
            "Epoch 17/50\n",
            "50/50 [==============================] - 4s 86ms/step - loss: 0.5557 - acc: 0.7010\n",
            " - 19s - loss: 0.5649 - acc: 0.7095 - val_loss: 0.5557 - val_acc: 0.7010\n",
            "Epoch 18/50\n",
            "50/50 [==============================] - 4s 87ms/step - loss: 0.5180 - acc: 0.7480\n",
            " - 19s - loss: 0.5626 - acc: 0.7060 - val_loss: 0.5180 - val_acc: 0.7480\n",
            "Epoch 19/50\n",
            "50/50 [==============================] - 4s 86ms/step - loss: 0.4969 - acc: 0.7570\n",
            " - 19s - loss: 0.5714 - acc: 0.7170 - val_loss: 0.4969 - val_acc: 0.7570\n",
            "Epoch 20/50\n",
            "50/50 [==============================] - 4s 87ms/step - loss: 0.5144 - acc: 0.7440\n",
            " - 19s - loss: 0.5635 - acc: 0.7230 - val_loss: 0.5144 - val_acc: 0.7440\n",
            "Epoch 21/50\n",
            "50/50 [==============================] - 4s 87ms/step - loss: 0.4676 - acc: 0.7780\n",
            " - 19s - loss: 0.5420 - acc: 0.7365 - val_loss: 0.4676 - val_acc: 0.7780\n",
            "Epoch 22/50\n",
            "50/50 [==============================] - 4s 87ms/step - loss: 0.4970 - acc: 0.7560\n",
            " - 19s - loss: 0.5269 - acc: 0.7405 - val_loss: 0.4970 - val_acc: 0.7560\n",
            "Epoch 23/50\n",
            "50/50 [==============================] - 4s 87ms/step - loss: 0.5250 - acc: 0.7520\n",
            " - 19s - loss: 0.5317 - acc: 0.7185 - val_loss: 0.5250 - val_acc: 0.7520\n",
            "Epoch 24/50\n",
            "50/50 [==============================] - 4s 86ms/step - loss: 0.4695 - acc: 0.7730\n",
            " - 19s - loss: 0.5251 - acc: 0.7500 - val_loss: 0.4695 - val_acc: 0.7730\n",
            "Epoch 25/50\n",
            "50/50 [==============================] - 4s 88ms/step - loss: 0.4890 - acc: 0.7750\n",
            " - 19s - loss: 0.5351 - acc: 0.7440 - val_loss: 0.4890 - val_acc: 0.7750\n",
            "Epoch 26/50\n",
            "50/50 [==============================] - 4s 86ms/step - loss: 0.4728 - acc: 0.7620\n",
            " - 19s - loss: 0.5208 - acc: 0.7510 - val_loss: 0.4728 - val_acc: 0.7620\n",
            "Epoch 27/50\n",
            "50/50 [==============================] - 4s 86ms/step - loss: 0.4590 - acc: 0.7940\n",
            " - 19s - loss: 0.5076 - acc: 0.7575 - val_loss: 0.4590 - val_acc: 0.7940\n",
            "Epoch 28/50\n",
            "50/50 [==============================] - 4s 87ms/step - loss: 0.4497 - acc: 0.7860\n",
            " - 19s - loss: 0.5279 - acc: 0.7525 - val_loss: 0.4497 - val_acc: 0.7860\n",
            "Epoch 29/50\n",
            "50/50 [==============================] - 4s 87ms/step - loss: 0.4759 - acc: 0.7730\n",
            " - 19s - loss: 0.5048 - acc: 0.7565 - val_loss: 0.4759 - val_acc: 0.7730\n",
            "Epoch 30/50\n",
            "50/50 [==============================] - 4s 88ms/step - loss: 0.4934 - acc: 0.7700\n",
            " - 19s - loss: 0.5034 - acc: 0.7675 - val_loss: 0.4934 - val_acc: 0.7700\n",
            "Epoch 31/50\n",
            "50/50 [==============================] - 4s 87ms/step - loss: 0.5265 - acc: 0.7840\n",
            " - 19s - loss: 0.4751 - acc: 0.7840 - val_loss: 0.5265 - val_acc: 0.7840\n",
            "Epoch 32/50\n",
            "50/50 [==============================] - 4s 86ms/step - loss: 0.4615 - acc: 0.7930\n",
            " - 19s - loss: 0.5031 - acc: 0.7585 - val_loss: 0.4615 - val_acc: 0.7930\n",
            "Epoch 33/50\n",
            "50/50 [==============================] - 4s 86ms/step - loss: 0.4560 - acc: 0.7970\n",
            " - 19s - loss: 0.4816 - acc: 0.7800 - val_loss: 0.4560 - val_acc: 0.7970\n",
            "Epoch 34/50\n",
            "50/50 [==============================] - 4s 86ms/step - loss: 0.4961 - acc: 0.7670\n",
            " - 19s - loss: 0.4886 - acc: 0.7765 - val_loss: 0.4961 - val_acc: 0.7670\n",
            "Epoch 35/50\n",
            "50/50 [==============================] - 4s 87ms/step - loss: 0.5280 - acc: 0.7740\n",
            " - 19s - loss: 0.4780 - acc: 0.7760 - val_loss: 0.5280 - val_acc: 0.7740\n",
            "Epoch 36/50\n",
            "50/50 [==============================] - 4s 87ms/step - loss: 0.4139 - acc: 0.8200\n",
            " - 19s - loss: 0.4720 - acc: 0.7730 - val_loss: 0.4139 - val_acc: 0.8200\n",
            "Epoch 37/50\n",
            "50/50 [==============================] - 4s 85ms/step - loss: 0.4087 - acc: 0.8290\n",
            " - 19s - loss: 0.4855 - acc: 0.7770 - val_loss: 0.4087 - val_acc: 0.8290\n",
            "Epoch 38/50\n",
            "50/50 [==============================] - 4s 87ms/step - loss: 0.4663 - acc: 0.8140\n",
            " - 19s - loss: 0.4642 - acc: 0.7935 - val_loss: 0.4663 - val_acc: 0.8140\n",
            "Epoch 39/50\n",
            "50/50 [==============================] - 4s 85ms/step - loss: 0.5002 - acc: 0.7730\n",
            " - 19s - loss: 0.4641 - acc: 0.7890 - val_loss: 0.5002 - val_acc: 0.7730\n",
            "Epoch 40/50\n",
            "50/50 [==============================] - 4s 87ms/step - loss: 0.4202 - acc: 0.8040\n",
            " - 19s - loss: 0.4749 - acc: 0.7785 - val_loss: 0.4202 - val_acc: 0.8040\n",
            "Epoch 41/50\n",
            "50/50 [==============================] - 4s 84ms/step - loss: 0.3997 - acc: 0.8300\n",
            " - 19s - loss: 0.4699 - acc: 0.7845 - val_loss: 0.3997 - val_acc: 0.8300\n",
            "Epoch 42/50\n",
            "50/50 [==============================] - 4s 85ms/step - loss: 0.3973 - acc: 0.8350\n",
            " - 19s - loss: 0.4652 - acc: 0.7880 - val_loss: 0.3973 - val_acc: 0.8350\n",
            "Epoch 43/50\n",
            "50/50 [==============================] - 4s 84ms/step - loss: 0.4280 - acc: 0.8030\n",
            " - 19s - loss: 0.4418 - acc: 0.8065 - val_loss: 0.4280 - val_acc: 0.8030\n",
            "Epoch 44/50\n",
            "50/50 [==============================] - 4s 86ms/step - loss: 0.4358 - acc: 0.7930\n",
            " - 19s - loss: 0.4505 - acc: 0.7980 - val_loss: 0.4358 - val_acc: 0.7930\n",
            "Epoch 45/50\n",
            "50/50 [==============================] - 4s 86ms/step - loss: 0.4127 - acc: 0.8110\n",
            " - 19s - loss: 0.4495 - acc: 0.8075 - val_loss: 0.4127 - val_acc: 0.8110\n",
            "Epoch 46/50\n",
            "50/50 [==============================] - 4s 85ms/step - loss: 0.4462 - acc: 0.8210\n",
            " - 19s - loss: 0.4252 - acc: 0.8070 - val_loss: 0.4462 - val_acc: 0.8210\n",
            "Epoch 47/50\n",
            "50/50 [==============================] - 4s 86ms/step - loss: 0.4234 - acc: 0.8120\n",
            " - 19s - loss: 0.4415 - acc: 0.8025 - val_loss: 0.4234 - val_acc: 0.8120\n",
            "Epoch 48/50\n",
            "50/50 [==============================] - 4s 90ms/step - loss: 0.4883 - acc: 0.7880\n",
            " - 20s - loss: 0.4535 - acc: 0.8005 - val_loss: 0.4883 - val_acc: 0.7880\n",
            "Epoch 49/50\n",
            "50/50 [==============================] - 4s 90ms/step - loss: 0.4002 - acc: 0.8220\n",
            " - 19s - loss: 0.4484 - acc: 0.8040 - val_loss: 0.4002 - val_acc: 0.8220\n",
            "Epoch 50/50\n",
            "50/50 [==============================] - 4s 90ms/step - loss: 0.3958 - acc: 0.8220\n",
            " - 20s - loss: 0.4391 - acc: 0.8125 - val_loss: 0.3958 - val_acc: 0.8220\n"
          ],
          "name": "stdout"
        }
      ]
    },
    {
      "cell_type": "code",
      "metadata": {
        "id": "Qy4_jktuUWzd",
        "colab_type": "code",
        "colab": {
          "base_uri": "https://localhost:8080/",
          "height": 545
        },
        "outputId": "3bc065e9-ca50-4ae3-ca15-5f9a75043356"
      },
      "source": [
        "import matplotlib.pyplot as plt\n",
        "acc = history.history['acc']\n",
        "val_acc = history.history['val_acc']\n",
        "loss = history.history['loss']\n",
        "val_loss = history.history['val_loss']\n",
        "\n",
        "epochs = range(len(acc))\n",
        "\n",
        "plt.plot(epochs, acc, 'bo', label='Training accuracy')\n",
        "plt.plot(epochs, val_acc, 'b', label='Validation accuracy')\n",
        "plt.title('Training and validation accuracy')\n",
        "\n",
        "plt.figure()\n",
        "\n",
        "plt.plot(epochs, loss, 'bo', label='Training Loss')\n",
        "plt.plot(epochs, val_loss, 'b', label='Validation Loss')\n",
        "plt.title('Training and validation loss')\n",
        "plt.legend()\n",
        "\n",
        "plt.show()"
      ],
      "execution_count": 29,
      "outputs": [
        {
          "output_type": "display_data",
          "data": {
            "image/png": "[encoded data removed]",
            "text/plain": [
              "<Figure size 432x288 with 1 Axes>"
            ]
          },
          "metadata": {
            "tags": []
          }
        },
        {
          "output_type": "display_data",
          "data": {
            "image/png": "[encoded data removed]",
            "text/plain": [
              "<Figure size 432x288 with 1 Axes>"
            ]
          },
          "metadata": {
            "tags": []
          }
        }
      ]
    }
  ]
}