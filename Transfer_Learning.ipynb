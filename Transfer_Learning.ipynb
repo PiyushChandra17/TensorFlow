{
  "nbformat": 4,
  "nbformat_minor": 0,
  "metadata": {
    "colab": {
      "name": "Transfer Learning.ipynb",
      "version": "0.3.2",
      "provenance": [],
      "include_colab_link": true
    },
    "kernelspec": {
      "name": "python3",
      "display_name": "Python 3"
    },
    "accelerator": "GPU"
  },
  "cells": [
    {
      "cell_type": "markdown",
      "metadata": {
        "id": "view-in-github",
        "colab_type": "text"
      },
      "source": [
        "<a href=\"https://colab.research.google.com/github/piyush1795/Py-piyush/blob/master/Transfer_Learning.ipynb\" target=\"_parent\"><img src=\"https://colab.research.google.com/assets/colab-badge.svg\" alt=\"Open In Colab\"/></a>"
      ]
    },
    {
      "cell_type": "code",
      "metadata": {
        "id": "wHQwoxugAwK5",
        "colab_type": "code",
        "colab": {
          "base_uri": "https://localhost:8080/",
          "height": 221
        },
        "outputId": "b7cb02b9-2f50-4cd4-d3eb-37e06b968276"
      },
      "source": [
        "import os\n",
        "import tensorflow as tf\n",
        "\n",
        "from tensorflow.keras import layers\n",
        "from tensorflow.keras import Model\n",
        "!wget --no-check-certificate \\\n",
        "    https://storage.googleapis.com/mledu-datasets/inception_v3_weights_tf_dim_ordering_tf_kernels_notop.h5 \\\n",
        "    -O /tmp/inception_v3_weights_tf_dim_ordering_tf_kernels_notop.h5\n",
        "\n",
        "from tensorflow.keras.applications.inception_v3 import InceptionV3\n",
        "\n",
        "local_weights_file = '/tmp/inception_v3_weights_tf_dim_ordering_tf_kernels_notop.h5'\n",
        "\n",
        "pre_trained_model = InceptionV3(input_shape = (150,150,3),\n",
        "                                include_top = False,\n",
        "                                weights = None)\n",
        "pre_trained_model.load_weights(local_weights_file)\n",
        "\n",
        "for layer in pre_trained_model.layers:\n",
        "  layer.trainable = False\n",
        "#pre_trained_model.summary()\n",
        "\n",
        "last_layer = pre_trained_model.get_layer('mixed7')\n",
        "print('last layer output shape :',last_layer.output_shape)\n",
        "last_output = last_layer.output"
      ],
      "execution_count": 8,
      "outputs": [
        {
          "output_type": "stream",
          "text": [
            "--2019-06-12 19:42:08--  https://storage.googleapis.com/mledu-datasets/inception_v3_weights_tf_dim_ordering_tf_kernels_notop.h5\n",
            "Resolving storage.googleapis.com (storage.googleapis.com)... 108.177.112.128, 2607:f8b0:4001:c05::80\n",
            "Connecting to storage.googleapis.com (storage.googleapis.com)|108.177.112.128|:443... connected.\n",
            "HTTP request sent, awaiting response... 200 OK\n",
            "Length: 87910968 (84M) [application/x-hdf]\n",
            "Saving to: ‘/tmp/inception_v3_weights_tf_dim_ordering_tf_kernels_notop.h5’\n",
            "\n",
            "\r          /tmp/ince   0%[                    ]       0  --.-KB/s               \r         /tmp/incep  53%[=========>          ]  44.78M   224MB/s               \r/tmp/inception_v3_w 100%[===================>]  83.84M   257MB/s    in 0.3s    \n",
            "\n",
            "2019-06-12 19:42:08 (257 MB/s) - ‘/tmp/inception_v3_weights_tf_dim_ordering_tf_kernels_notop.h5’ saved [87910968/87910968]\n",
            "\n",
            "last layer output shape : (None, 7, 7, 768)\n"
          ],
          "name": "stdout"
        }
      ]
    },
    {
      "cell_type": "code",
      "metadata": {
        "id": "gRQ-K6rVGbUI",
        "colab_type": "code",
        "colab": {}
      },
      "source": [
        "from tensorflow.keras.optimizers import RMSprop\n",
        "\n",
        "x = layers.Flatten()(last_output)\n",
        "\n",
        "x = layers.Dense(1024, activation='relu')(x)\n",
        "\n",
        "x = layers.Dropout(0.2)(x)\n",
        "\n",
        "x = layers.Dense(1, activation='sigmoid')(x)\n",
        "\n",
        "model = Model(pre_trained_model.input,x)\n",
        "\n",
        "model.compile(optimizer=RMSprop(lr=0.0001),\n",
        "              loss='binary_crossentropy',\n",
        "              metrics=['acc'])"
      ],
      "execution_count": 0,
      "outputs": []
    },
    {
      "cell_type": "code",
      "metadata": {
        "id": "l5Dye7-kJm4j",
        "colab_type": "code",
        "colab": {
          "base_uri": "https://localhost:8080/",
          "height": 204
        },
        "outputId": "6cba2b38-4410-4435-f4ac-9a71eeca111c"
      },
      "source": [
        "!wget --no-check-certificate \\\n",
        "        https://storage.googleapis.com/mledu-datasets/cats_and_dogs_filtered.zip \\\n",
        "       -O /tmp/cats_and_dogs_filtered.zip\n"
      ],
      "execution_count": 10,
      "outputs": [
        {
          "output_type": "stream",
          "text": [
            "--2019-06-12 19:42:33--  https://storage.googleapis.com/mledu-datasets/cats_and_dogs_filtered.zip\n",
            "Resolving storage.googleapis.com (storage.googleapis.com)... 172.217.214.128, 2607:f8b0:4001:c07::80\n",
            "Connecting to storage.googleapis.com (storage.googleapis.com)|172.217.214.128|:443... connected.\n",
            "HTTP request sent, awaiting response... 200 OK\n",
            "Length: 68606236 (65M) [application/zip]\n",
            "Saving to: ‘/tmp/cats_and_dogs_filtered.zip’\n",
            "\n",
            "\r          /tmp/cats   0%[                    ]       0  --.-KB/s               \r         /tmp/cats_  61%[===========>        ]  40.07M   200MB/s               \r/tmp/cats_and_dogs_ 100%[===================>]  65.43M   232MB/s    in 0.3s    \n",
            "\n",
            "2019-06-12 19:42:33 (232 MB/s) - ‘/tmp/cats_and_dogs_filtered.zip’ saved [68606236/68606236]\n",
            "\n"
          ],
          "name": "stdout"
        }
      ]
    },
    {
      "cell_type": "code",
      "metadata": {
        "id": "Wlu5FIqGJv20",
        "colab_type": "code",
        "colab": {
          "base_uri": "https://localhost:8080/",
          "height": 51
        },
        "outputId": "2d4a51d3-381c-4167-f5b4-ed933a8ac216"
      },
      "source": [
        "from tensorflow.keras.preprocessing.image import ImageDataGenerator\n",
        "\n",
        "import os\n",
        "import zipfile\n",
        "\n",
        "local_zip = '//tmp/cats_and_dogs_filtered.zip'\n",
        "\n",
        "zip_ref = zipfile.ZipFile(local_zip, 'r')\n",
        "\n",
        "zip_ref.extractall('/tmp')\n",
        "zip_ref.close()\n",
        "\n",
        "# Define our example directories and files\n",
        "base_dir = '/tmp/cats_and_dogs_filtered'\n",
        "\n",
        "train_dir = os.path.join( base_dir, 'train')\n",
        "validation_dir = os.path.join( base_dir, 'validation')\n",
        "\n",
        "\n",
        "train_cats_dir = os.path.join(train_dir, 'cats') # Directory with our training cat pictures\n",
        "train_dogs_dir = os.path.join(train_dir, 'dogs') # Directory with our training dog pictures\n",
        "validation_cats_dir = os.path.join(validation_dir, 'cats') # Directory with our validation cat pictures\n",
        "validation_dogs_dir = os.path.join(validation_dir, 'dogs')# Directory with our validation dog pictures\n",
        "\n",
        "train_cat_fnames = os.listdir(train_cats_dir)\n",
        "train_dog_fnames = os.listdir(train_dogs_dir)\n",
        "\n",
        "# Add our data-augmentation parameters to ImageDataGenerator\n",
        "train_datagen = ImageDataGenerator(rescale = 1./255.,\n",
        "                                   rotation_range = 40,\n",
        "                                   width_shift_range = 0.2,\n",
        "                                   height_shift_range = 0.2,\n",
        "                                   shear_range = 0.2,\n",
        "                                   zoom_range = 0.2,\n",
        "                                   horizontal_flip = True)\n",
        "\n",
        "# Note that the validation data should not be augmented!\n",
        "test_datagen = ImageDataGenerator( rescale = 1.0/255. )\n",
        "\n",
        "# Flow training images in batches of 20 using train_datagen generator\n",
        "train_generator = train_datagen.flow_from_directory(train_dir,\n",
        "                                                    batch_size = 20,\n",
        "                                                    class_mode = 'binary', \n",
        "                                                    target_size = (150, 150))     \n",
        "\n",
        "# Flow validation images in batches of 20 using test_datagen generator\n",
        "validation_generator =  test_datagen.flow_from_directory( validation_dir,\n",
        "                                                          batch_size  = 20,\n",
        "                                                          class_mode  = 'binary', \n",
        "                                                          target_size = (150, 150))"
      ],
      "execution_count": 11,
      "outputs": [
        {
          "output_type": "stream",
          "text": [
            "Found 2000 images belonging to 2 classes.\n",
            "Found 1000 images belonging to 2 classes.\n"
          ],
          "name": "stdout"
        }
      ]
    },
    {
      "cell_type": "code",
      "metadata": {
        "id": "5vmAgfdYKiFu",
        "colab_type": "code",
        "colab": {
          "base_uri": "https://localhost:8080/",
          "height": 1037
        },
        "outputId": "7085e33a-40f6-4c02-c101-288976be06fe"
      },
      "source": [
        "history = model.fit_generator(\n",
        "          train_generator,\n",
        "          validation_data = validation_generator,\n",
        "          steps_per_epoch = 100,\n",
        "          epochs = 20,\n",
        "          validation_steps = 20,\n",
        "          verbose = 2)"
      ],
      "execution_count": 12,
      "outputs": [
        {
          "output_type": "stream",
          "text": [
            "Epoch 1/20\n",
            "50/50 [==============================] - 5s 99ms/step - loss: 0.2887 - acc: 0.9100\n",
            " - 22s - loss: 0.5206 - acc: 0.7470 - val_loss: 0.2887 - val_acc: 0.9100\n",
            "Epoch 2/20\n",
            "50/50 [==============================] - 5s 90ms/step - loss: 0.2563 - acc: 0.9360\n",
            " - 19s - loss: 0.3851 - acc: 0.8270 - val_loss: 0.2563 - val_acc: 0.9360\n",
            "Epoch 3/20\n",
            "50/50 [==============================] - 4s 90ms/step - loss: 0.3237 - acc: 0.9380\n",
            " - 18s - loss: 0.3460 - acc: 0.8455 - val_loss: 0.3237 - val_acc: 0.9380\n",
            "Epoch 4/20\n",
            "50/50 [==============================] - 4s 89ms/step - loss: 0.3833 - acc: 0.9300\n",
            " - 18s - loss: 0.3210 - acc: 0.8620 - val_loss: 0.3833 - val_acc: 0.9300\n",
            "Epoch 5/20\n",
            "50/50 [==============================] - 5s 91ms/step - loss: 0.3226 - acc: 0.9410\n",
            " - 19s - loss: 0.3214 - acc: 0.8730 - val_loss: 0.3226 - val_acc: 0.9410\n",
            "Epoch 6/20\n",
            "50/50 [==============================] - 4s 88ms/step - loss: 0.3173 - acc: 0.9390\n",
            " - 18s - loss: 0.3151 - acc: 0.8600 - val_loss: 0.3173 - val_acc: 0.9390\n",
            "Epoch 7/20\n",
            "50/50 [==============================] - 4s 89ms/step - loss: 0.2724 - acc: 0.9560\n",
            " - 18s - loss: 0.3129 - acc: 0.8650 - val_loss: 0.2724 - val_acc: 0.9560\n",
            "Epoch 8/20\n",
            "50/50 [==============================] - 4s 87ms/step - loss: 0.3748 - acc: 0.9430\n",
            " - 18s - loss: 0.2957 - acc: 0.8780 - val_loss: 0.3748 - val_acc: 0.9430\n",
            "Epoch 9/20\n",
            "50/50 [==============================] - 5s 91ms/step - loss: 0.2850 - acc: 0.9600\n",
            " - 18s - loss: 0.2862 - acc: 0.8850 - val_loss: 0.2850 - val_acc: 0.9600\n",
            "Epoch 10/20\n",
            "50/50 [==============================] - 4s 88ms/step - loss: 0.4051 - acc: 0.9450\n",
            " - 18s - loss: 0.2691 - acc: 0.8880 - val_loss: 0.4051 - val_acc: 0.9450\n",
            "Epoch 11/20\n",
            "50/50 [==============================] - 4s 88ms/step - loss: 0.3070 - acc: 0.9620\n",
            " - 18s - loss: 0.2801 - acc: 0.8845 - val_loss: 0.3070 - val_acc: 0.9620\n",
            "Epoch 12/20\n",
            "50/50 [==============================] - 4s 87ms/step - loss: 0.4501 - acc: 0.9400\n",
            " - 18s - loss: 0.2745 - acc: 0.8870 - val_loss: 0.4501 - val_acc: 0.9400\n",
            "Epoch 13/20\n",
            "50/50 [==============================] - 4s 87ms/step - loss: 0.3183 - acc: 0.9580\n",
            " - 18s - loss: 0.2697 - acc: 0.8820 - val_loss: 0.3183 - val_acc: 0.9580\n",
            "Epoch 14/20\n",
            "50/50 [==============================] - 4s 87ms/step - loss: 0.4622 - acc: 0.9360\n",
            " - 18s - loss: 0.2873 - acc: 0.8950 - val_loss: 0.4622 - val_acc: 0.9360\n",
            "Epoch 15/20\n",
            "50/50 [==============================] - 4s 87ms/step - loss: 0.2803 - acc: 0.9650\n",
            " - 18s - loss: 0.2548 - acc: 0.8930 - val_loss: 0.2803 - val_acc: 0.9650\n",
            "Epoch 16/20\n",
            "50/50 [==============================] - 4s 87ms/step - loss: 0.3015 - acc: 0.9600\n",
            " - 18s - loss: 0.2732 - acc: 0.8945 - val_loss: 0.3015 - val_acc: 0.9600\n",
            "Epoch 17/20\n",
            "50/50 [==============================] - 4s 87ms/step - loss: 0.3100 - acc: 0.9570\n",
            " - 18s - loss: 0.2594 - acc: 0.9005 - val_loss: 0.3100 - val_acc: 0.9570\n",
            "Epoch 18/20\n",
            "50/50 [==============================] - 5s 91ms/step - loss: 0.3947 - acc: 0.9480\n",
            " - 18s - loss: 0.2531 - acc: 0.9020 - val_loss: 0.3947 - val_acc: 0.9480\n",
            "Epoch 19/20\n",
            "50/50 [==============================] - 4s 85ms/step - loss: 0.4134 - acc: 0.9450\n",
            " - 18s - loss: 0.2408 - acc: 0.9010 - val_loss: 0.4134 - val_acc: 0.9450\n",
            "Epoch 20/20\n",
            "50/50 [==============================] - 4s 86ms/step - loss: 0.4265 - acc: 0.9470\n",
            " - 18s - loss: 0.2331 - acc: 0.9085 - val_loss: 0.4265 - val_acc: 0.9470\n"
          ],
          "name": "stdout"
        }
      ]
    },
    {
      "cell_type": "code",
      "metadata": {
        "id": "03D9-s2YPnx7",
        "colab_type": "code",
        "colab": {
          "base_uri": "https://localhost:8080/",
          "height": 298
        },
        "outputId": "d5f40bc6-80e3-490c-b2ac-87ff615edcbc"
      },
      "source": [
        "import matplotlib.pyplot as plt\n",
        "acc = history.history['acc']\n",
        "val_acc = history.history['val_acc']\n",
        "loss = history.history['loss']\n",
        "val_loss = history.history['val_loss']\n",
        "\n",
        "epochs = range(len(acc))\n",
        "\n",
        "plt.plot(epochs, acc, 'r', label='Training accuracy')\n",
        "plt.plot(epochs, val_acc, 'b', label='Validation accuracy')\n",
        "plt.title('Training and validation accuracy')\n",
        "plt.legend(loc=0)\n",
        "plt.figure()\n",
        "\n",
        "\n",
        "plt.show()"
      ],
      "execution_count": 13,
      "outputs": [
        {
          "output_type": "display_data",
          "data": {
            "image/png": "[encoded data removed]",
            "text/plain": [
              "<Figure size 432x288 with 1 Axes>"
            ]
          },
          "metadata": {
            "tags": []
          }
        },
        {
          "output_type": "display_data",
          "data": {
            "text/plain": [
              "<Figure size 432x288 with 0 Axes>"
            ]
          },
          "metadata": {
            "tags": []
          }
        }
      ]
    }
  ]
}